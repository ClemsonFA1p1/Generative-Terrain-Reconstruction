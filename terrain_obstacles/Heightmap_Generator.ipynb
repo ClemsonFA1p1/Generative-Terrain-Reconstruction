{
 "cells": [
  {
   "cell_type": "code",
   "execution_count": 1,
   "id": "3e74a53b",
   "metadata": {},
   "outputs": [],
   "source": [
    "import matplotlib.pyplot as plt\n",
    "from perlin_noise import PerlinNoise\n",
    "import time\n",
    "import random\n",
    "import os\n",
    "import pathlib\n",
    "import numpy as np\n",
    "from PIL import Image\n",
    "from descartes import PolygonPatch\n",
    "import alphashape\n",
    "#import cartopy.crs as ccrs\n",
    "\n",
    "import cv2\n",
    "import time\n",
    "#import warning"
   ]
  },
  {
   "cell_type": "code",
   "execution_count": 2,
   "id": "3ee199bf",
   "metadata": {},
   "outputs": [],
   "source": [
    "def centerMask(heightMap):\n",
    "    center = (125, 125)\n",
    "    radius = 15\n",
    "    \n",
    "    x = np.arange(0, 250)\n",
    "    y = np.arange(0, 250)\n",
    "    mask = (x[np.newaxis,:]-center[0])**2 + (y[:,np.newaxis]-center[1])**2 < radius**2\n",
    "    \n",
    "    return heightMap*mask, mask"
   ]
  },
  {
   "cell_type": "code",
   "execution_count": 3,
   "id": "1c047185",
   "metadata": {},
   "outputs": [],
   "source": [
    "def primitiveCircle(center : tuple, radius : int, heightMap):\n",
    "    x = np.arange(0, 250)\n",
    "    y = np.arange(0, 250)\n",
    "\n",
    "    # The two lines below could be merged, but I stored the mask\n",
    "    # for code clarity.\n",
    "    mask = (x[np.newaxis,:]-center[0])**2 + (y[:,np.newaxis]-center[1])**2 < radius**2\n",
    "    heightMap[mask] = 255 #* random.randrange(2)\n",
    "    \n",
    "\n",
    "    return heightMap"
   ]
  },
  {
   "cell_type": "code",
   "execution_count": 4,
   "id": "c6ff5914",
   "metadata": {},
   "outputs": [],
   "source": [
    "def convex(heightMap):\n",
    "    # Do later\n",
    "    # Prob try to do something similar to nonConvex or use convex hull (opencv2)\n",
    "    return"
   ]
  },
  {
   "cell_type": "code",
   "execution_count": 5,
   "id": "309fc1d6",
   "metadata": {},
   "outputs": [],
   "source": [
    "def nonConvex(heightMap):\n",
    "    mask = np.zeros((250, 250), dtype=np.uint8)\n",
    "    numPoints = random.randrange(4,7)\n",
    "    points = np.array([[random.randrange(250), random.randrange(250)]])\n",
    "    for i in range(numPoints):\n",
    "        xdelta = random.randrange(-10,10)\n",
    "        ydelta = random.randrange(-10,10)\n",
    "        points = np.append(points, points[i,:] + [[xdelta, ydelta]], axis=0)\n",
    "    points=(np.int32(points))\n",
    "    cv2.fillPoly(mask, points[np.newaxis,:], (1)) #new axis is to get in correct array format\n",
    "    isExtrusion = 1 #random.randrange(2)\n",
    "    \n",
    "    return (heightMap*(1-mask) + np.uint8(255*(mask)*isExtrusion))"
   ]
  },
  {
   "cell_type": "code",
   "execution_count": 6,
   "id": "d87f2dc1",
   "metadata": {},
   "outputs": [
    {
     "name": "stdout",
     "output_type": "stream",
     "text": [
      "Directory already exists...\n"
     ]
    }
   ],
   "source": [
    "# Parameters\n",
    "startImages = 5001 # Prob need to rerun 0-5000 to have proper all terrain (e.g. rectangle, ramp, etc.)\n",
    "endImages = 5002 # Current end: 5000\n",
    "\n",
    "\n",
    "xpix, ypix = 250, 250\n",
    "imageScale = 0.5\n",
    "\n",
    "octaves = 4\n",
    "\n",
    "obstacleName = \"all\" # Don't change this s.t. generate terrain and obstacles\n",
    "\n",
    "if obstacleName == \"rectangle\":\n",
    "    maxRadius = 0\n",
    "    minRadius = 0\n",
    "    minPrimCircle = 0\n",
    "    maxPrimCircle = 0\n",
    "    minNonConvex = 0\n",
    "    maxNonConvex = 0\n",
    "elif obstacleName == \"circle\":\n",
    "    maxRadius = 10\n",
    "    minRadius = 5\n",
    "    minPrimCircle = 7\n",
    "    maxPrimCircle = 15\n",
    "    minNonConvex = 0\n",
    "    maxNonConvex = 0\n",
    "elif obstacleName == \"ramp\":\n",
    "    print(\"ok\")\n",
    "elif obstacleName == \"nonconvex\":\n",
    "    maxRadius = 0\n",
    "    minRadius = 0\n",
    "    minPrimCircle = 0\n",
    "    maxPrimCircle = 0\n",
    "    minNonConvex = 7\n",
    "    maxNonConvex = 15\n",
    "elif obstacleName == \"all\":\n",
    "    maxRadius = 10\n",
    "    minRadius = 5\n",
    "    minPrimCircle = 7\n",
    "    maxPrimCircle = 10\n",
    "    minNonConvex = 5\n",
    "    maxNonConvex = 10\n",
    "else:\n",
    "    print(\"Not valid obstacle name\")\n",
    "    \n",
    "    \n",
    "    \n",
    "\n",
    "\n",
    "path=os.getcwd()\n",
    "folder_path=path+(f'/heightmaps/%s/Octave %d/train data/inputs/' % (obstacleName, octaves))\n",
    "\n",
    "\n",
    "try:\n",
    "    os.makedirs(folder_path)\n",
    "except:\n",
    "    print(\"Directory already exists...\")\n",
    "\n",
    "# data_dir=pathlib.Path(path+'/heightmaps/octaves 3/test data/inputs')\n",
    "random.seed(int(time.time()))\n",
    "\n",
    "prevTime = time.time()\n",
    "for img_num in range(startImages, endImages):\n",
    "    seed = random.randrange(100000000)\n",
    "    noise = PerlinNoise(octaves=octaves, seed=seed)\n",
    "    pic = [[noise([i/xpix, j/ypix]) for j in range(xpix)] for i in range(ypix)]\n",
    "    \n",
    "    pic_np = (np.array(pic)).reshape((xpix,ypix))\n",
    "    p_max = np.max(pic_np)\n",
    "    p_min = np.min(pic_np)\n",
    "    if p_max-p_min>1:\n",
    "        pic_np = (((pic_np-p_min)/(p_max-p_min))*imageScale*255).astype('uint8')\n",
    "    else: pic_np = ((pic_np-p_min)*imageScale*255).astype('uint8')\n",
    "    \n",
    "    if obstacleName != \"all\":\n",
    "        pic_np = (pic_np*0 + 25).astype('uint8') # Reset map to flat terrain\n",
    "    pic_np_center, center_mask = centerMask(pic_np)\n",
    "    \n",
    "    if maxPrimCircle > 0:\n",
    "        numOfPrimCircle = random.randrange(minPrimCircle, maxPrimCircle)\n",
    "        for i in range(numOfPrimCircle):\n",
    "            #print(randCenter)\n",
    "            randCenter = (random.randrange(xpix), random.randrange(ypix))\n",
    "            randRadius = random.randrange(minRadius, maxRadius)\n",
    "            pic_np = primitiveCircle(randCenter, randRadius, pic_np)\n",
    "    if maxNonConvex > 0:\n",
    "        numOfNonConvex = random.randrange(minNonConvex, maxNonConvex)\n",
    "        for j in range(numOfNonConvex):\n",
    "            pic_np = nonConvex(pic_np)\n",
    "    \n",
    "    pic_np = np.uint8(pic_np*(1-center_mask) + pic_np_center)\n",
    "    \n",
    "    pil_img = Image.fromarray(pic_np, 'L')\n",
    "    # img_path=folder_path+obstacleName[0]+'_O'+str(octaves)+'_H'+str(img_num+1)+'.png'\n",
    "    img_path=folder_path+str(img_num+1)+'.png'\n",
    "    pil_img.save(img_path)\n",
    "    \n",
    "    \n",
    "    if not (img_num+1)%200:\n",
    "        print(\"Number of Terrains Generated:\",img_num+1)\n",
    "        currentTime = time.time()\n",
    "        print(\"Duration: %0.3fs\" % (currentTime-prevTime))\n",
    "        prevTime = currentTime\n",
    "    \n",
    "print(\"<<<<<<<<<<<<<<<//////////////////// Done Generating Terrains \\\\\\\\\\\\\\\\\\\\\\\\\\\\\\\\\\\\\\\\\\\\\\>>>>>>>>>>>>>>>>>>>>\")"
   ]
  },
  {
   "cell_type": "code",
   "execution_count": null,
   "id": "290c7a62",
   "metadata": {},
   "outputs": [
    {
     "name": "stdout",
     "output_type": "stream",
     "text": [
      "/home/dira/Downloads/Sarang/sae_wcx_conference/terrain_obstacles/heightmaps/all/Octave 4/train data/inputs/\n"
     ]
    }
   ],
   "source": [
    "print(folder_path)"
   ]
  }
 ],
 "metadata": {
  "kernelspec": {
   "display_name": "Python 3.9.12 ('base')",
   "language": "python",
   "name": "python3"
  },
  "language_info": {
   "codemirror_mode": {
    "name": "ipython",
    "version": 3
   },
   "file_extension": ".py",
   "mimetype": "text/x-python",
   "name": "python",
   "nbconvert_exporter": "python",
   "pygments_lexer": "ipython3",
   "version": "3.9.12"
  },
  "vscode": {
   "interpreter": {
    "hash": "976180b2ecb65bd02dafd38ec3047f6bfe79dfa67fb40d92604bf35b01a83282"
   }
  }
 },
 "nbformat": 4,
 "nbformat_minor": 5
}
